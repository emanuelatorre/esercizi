{
 "cells": [
  {
   "cell_type": "markdown",
   "id": "b1375e1f",
   "metadata": {},
   "source": [
    "Una funzione che data una parola mi dice se questa parola è palindroma:\n",
    " "
   ]
  },
  {
   "cell_type": "code",
   "execution_count": 16,
   "id": "7a8ad4fe",
   "metadata": {},
   "outputs": [],
   "source": [
    "def check_palindrome(word):\n",
    "    word = str(word).lower() # rende la parola minuscola per ignorare maiuscole/minuscole \n",
    "    if word == word[::-1]: # se la parola è uguale alla stessa parola al contrario \n",
    "        print(f'{word} è una parola palindroma.')\n",
    "    else:\n",
    "        print(f'{word} non è una parola palindorma.')\n"
   ]
  },
  {
   "cell_type": "code",
   "execution_count": 7,
   "id": "2e7480e6",
   "metadata": {},
   "outputs": [
    {
     "name": "stdout",
     "output_type": "stream",
     "text": [
      "anna è una parola palindroma.\n"
     ]
    }
   ],
   "source": [
    "check_palindrome('anna')"
   ]
  },
  {
   "cell_type": "code",
   "execution_count": 8,
   "id": "06389a4f",
   "metadata": {},
   "outputs": [
    {
     "name": "stdout",
     "output_type": "stream",
     "text": [
      "ciao non è una parola palindorma.\n"
     ]
    }
   ],
   "source": [
    "check_palindrome('ciao')"
   ]
  },
  {
   "cell_type": "code",
   "execution_count": 10,
   "id": "681d3f50",
   "metadata": {},
   "outputs": [
    {
     "name": "stdout",
     "output_type": "stream",
     "text": [
      "osso è una parola palindroma.\n"
     ]
    }
   ],
   "source": [
    "check_palindrome('osso')"
   ]
  },
  {
   "cell_type": "code",
   "execution_count": 12,
   "id": "7b83e661",
   "metadata": {},
   "outputs": [
    {
     "name": "stdout",
     "output_type": "stream",
     "text": [
      "anna è una parola palindroma.\n"
     ]
    }
   ],
   "source": [
    "check_palindrome('Anna')"
   ]
  },
  {
   "cell_type": "code",
   "execution_count": 13,
   "id": "431ee210",
   "metadata": {},
   "outputs": [
    {
     "name": "stdout",
     "output_type": "stream",
     "text": [
      "osso è una parola palindroma.\n"
     ]
    }
   ],
   "source": [
    "check_palindrome('OsSo')"
   ]
  },
  {
   "cell_type": "code",
   "execution_count": 18,
   "id": "c1150f52",
   "metadata": {},
   "outputs": [
    {
     "name": "stdout",
     "output_type": "stream",
     "text": [
      "1551 è una parola palindroma.\n"
     ]
    }
   ],
   "source": [
    "check_palindrome(1551) # abbiamo aggiunto str(word).lower() per rendere la funzione fficace anche sui numeri --> VEDERE FUNZIONE "
   ]
  }
 ],
 "metadata": {
  "kernelspec": {
   "display_name": ".venv",
   "language": "python",
   "name": "python3"
  },
  "language_info": {
   "codemirror_mode": {
    "name": "ipython",
    "version": 3
   },
   "file_extension": ".py",
   "mimetype": "text/x-python",
   "name": "python",
   "nbconvert_exporter": "python",
   "pygments_lexer": "ipython3",
   "version": "3.12.9"
  }
 },
 "nbformat": 4,
 "nbformat_minor": 5
}
